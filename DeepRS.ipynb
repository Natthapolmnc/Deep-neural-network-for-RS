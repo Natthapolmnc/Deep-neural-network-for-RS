{
  "nbformat": 4,
  "nbformat_minor": 0,
  "metadata": {
    "colab": {
      "name": "DeepRS.ipynb",
      "provenance": [],
      "collapsed_sections": []
    },
    "kernelspec": {
      "name": "python3",
      "display_name": "Python 3"
    }
  },
  "cells": [
    {
      "cell_type": "code",
      "metadata": {
        "id": "h7vB1IPtgL1i",
        "colab_type": "code",
        "colab": {}
      },
      "source": [
        "%tensorflow_version 2.x"
      ],
      "execution_count": 0,
      "outputs": []
    },
    {
      "cell_type": "code",
      "metadata": {
        "id": "ZUy24m61gBg1",
        "colab_type": "code",
        "colab": {}
      },
      "source": [
        "import pandas as pd\n",
        "import random\n",
        "import math\n",
        "from tqdm import trange\n",
        "import matplotlib.pyplot as plt\n",
        "import tensorflow as tf\n",
        "import numpy as np\n",
        "from google.colab import drive"
      ],
      "execution_count": 0,
      "outputs": []
    },
    {
      "cell_type": "code",
      "metadata": {
        "id": "vuhAohOemilk",
        "colab_type": "code",
        "outputId": "55e2d095-adcf-40c0-e408-08bf07718cff",
        "colab": {
          "base_uri": "https://localhost:8080/",
          "height": 126
        }
      },
      "source": [
        "###Mount drive\n",
        "drive.mount(\"/content/drive\")"
      ],
      "execution_count": 3,
      "outputs": [
        {
          "output_type": "stream",
          "text": [
            "Go to this URL in a browser: https://accounts.google.com/o/oauth2/auth?client_id=947318989803-6bn6qk8qdgf4n4g3pfee6491hc0brc4i.apps.googleusercontent.com&redirect_uri=urn%3aietf%3awg%3aoauth%3a2.0%3aoob&response_type=code&scope=email%20https%3a%2f%2fwww.googleapis.com%2fauth%2fdocs.test%20https%3a%2f%2fwww.googleapis.com%2fauth%2fdrive%20https%3a%2f%2fwww.googleapis.com%2fauth%2fdrive.photos.readonly%20https%3a%2f%2fwww.googleapis.com%2fauth%2fpeopleapi.readonly\n",
            "\n",
            "Enter your authorization code:\n",
            "··········\n",
            "Mounted at /content/drive\n"
          ],
          "name": "stdout"
        }
      ]
    },
    {
      "cell_type": "code",
      "metadata": {
        "id": "2oDNmf-ZDG4r",
        "colab_type": "code",
        "colab": {}
      },
      "source": [
        "### custom Layer\n",
        "class Embbeding(tf.keras.layers.Layer):\n",
        "  \n",
        "  def __init__(self,len_onehot_u,len_onehot_i):\n",
        "    self.len_onehot_u=len_onehot_u\n",
        "    self.len_onehot_i=len_onehot_i\n",
        "    super(Embbeding,self).__init__()\n",
        "\n",
        "  def build(self,input_shape=(0,0)):\n",
        "    self.mat_emb_u=self.add_weight(\"embbed_transform_matrix_u\",shape=[256,self.len_onehot_u],dtype=tf.float32,initializer=tf.initializers.RandomUniform)\n",
        "    self.mat_emb_i=self.add_weight(\"embbed_tranform_matrix_i\",shape=[256,self.len_onehot_i],dtype=tf.float32,initializer=tf.initializers.RandomUniform)\n",
        "    self.bias_u=self.add_weight(\"bias_u\",shape=[256,],dtype=tf.float32,initializer=tf.initializers.RandomUniform)\n",
        "    self.bias_i=self.add_weight(\"bias_i\",shape=[256,],dtype=tf.float32,initializer=tf.initializers.RandomUniform)\n",
        "  \n",
        "  def call(self,input):\n",
        "    user_onehot,item_onehot=input\n",
        "    return tf.transpose(tf.stack([tf.add(tf.linalg.matvec(self.mat_emb_u,user_onehot),self.bias_u),tf.add(tf.linalg.matvec(self.mat_emb_i,item_onehot),self.bias_i)]))\n",
        "\n",
        "class Dense(tf.keras.layers.Layer):\n",
        "\n",
        "  def __init__(self, reduc_to,len_input):\n",
        "    self.reduc_to=reduc_to\n",
        "    self.len_input=len_input\n",
        "    super(Dense,self).__init__()\n",
        "\n",
        "  def build(self,input_shape=(0,0)):\n",
        "    self.mat_reduc=self.add_weight(\"reduc_mat\",shape=[self.reduc_to,self.len_input],dtype=tf.float32,initializer=tf.initializers.RandomUniform)\n",
        "    self.bias=self.add_weight(\"bias\",shape=[self.reduc_to,1],dtype=tf.float32,initializer=tf.initializers.RandomUniform)\n",
        "\n",
        "  def call(self,input):\n",
        "      return tf.add(tf.matmul(self.mat_reduc,input),self.bias)\n",
        "  \n",
        "\n",
        "class Linear(tf.keras.layers.Layer):\n",
        "\n",
        "  def __init__(self,len_input):\n",
        "    self.len_input=len_input\n",
        "    super(Linear,self).__init__()\n",
        "\n",
        "  def build(self,input_shape=(20000,1)):\n",
        "    self.mat_reduc=self.add_weight(\"reduc_mat\",shape=[2,1],dtype=tf.float32,initializer=tf.initializers.RandomUniform)\n",
        "    self.bias=self.add_weight(\"bias\",shape=[self.len_input,1],dtype=tf.float32, initializer=tf.initializers.RandomUniform)\n",
        "\n",
        "  def call(self,input):\n",
        "    return tf.add(tf.matmul(input, self.mat_reduc),self.bias)\n",
        "\n",
        "class DeepRs(tf.keras.Model):\n",
        "\n",
        "  def __init__(self,len_onehot_u,len_onehot_i):\n",
        "    super(DeepRs,self).__init__()\n",
        "    self.step_func=tf.keras.activations.relu\n",
        "    self.layer1=Embbeding(len_onehot_u,len_onehot_i)\n",
        "    self.layer2=Linear(256)\n",
        "    self.layer3=Dense(128,256)\n",
        "    self.layer4=Dense(32,128)\n",
        "    self.layer5=Dense(1,32)\n",
        "\n",
        "  def call(self,input):\n",
        "    output=self.layer1(input)\n",
        "    output=self.step_func(output)\n",
        "    output=self.layer2(output)\n",
        "    output=self.step_func(output)\n",
        "    output=self.layer3(output)\n",
        "    output=self.step_func(output)\n",
        "    output=self.layer4(output)\n",
        "    output=self.step_func(output)\n",
        "    output=self.layer5(output)\n",
        "    output=self.step_func(output)\n",
        "    return output[0][0]\n",
        "\n",
        "## cost func\n",
        "def cost_fn(source, target):\n",
        "  diff=source-target\n",
        "  diff_sqr=tf.square(diff)\n",
        "  return diff_sqr"
      ],
      "execution_count": 0,
      "outputs": []
    },
    {
      "cell_type": "code",
      "metadata": {
        "id": "1of1PRuUsvIW",
        "colab_type": "code",
        "colab": {}
      },
      "source": [
        "### Load Data\n",
        "train=pd.read_csv(\"/content/drive/Shared drives/Chula Drive/Datasets/AnimeRec-w  review/train_expli_matrix\")\n",
        "train=train.set_index(\"uid\")\n",
        "test=pd.read_csv(\"/content/drive/Shared drives/Chula Drive/Datasets/AnimeRec-w  review/test_expli_matrix\")\n",
        "test=test.set_index(\"uid\")"
      ],
      "execution_count": 0,
      "outputs": []
    },
    {
      "cell_type": "code",
      "metadata": {
        "id": "pDXlXKi-6Jwi",
        "colab_type": "code",
        "outputId": "242deda5-a57d-43b5-f7d8-8b5036020fbb",
        "colab": {
          "base_uri": "https://localhost:8080/",
          "height": 52
        }
      },
      "source": [
        "train_set_input=[]\n",
        "train_set_output=[]\n",
        "for i in trange(28555):\n",
        "  voted=np.where(train.iloc[[i],:].values[0]>0)[0]\n",
        "  for j in voted:\n",
        "    user_onehot=tf.one_hot(i,28555,dtype=tf.float32)\n",
        "    item_onehot=tf.one_hot(j,3552,dtype=tf.float32)\n",
        "    train_set_input.append(tuple((user_onehot,item_onehot)))\n",
        "    train_set_output.append(train.iloc[[i],[j]].values[0][0])\n",
        "\n",
        "for i in trange(28555):\n",
        "  unvoted=np.where(train.iloc[[i],:].values[0]==0)[0]\n",
        "  voted=np.where(train.iloc[[i],:].values[0]>0)[0]\n",
        "  for j in range(math.ceil(len(voted)*0.25)):\n",
        "    user_onehot=tf.one_hot(i,28555,dtype=tf.float32)\n",
        "    item_onehot=tf.one_hot(unvoted[random.randrange(len(unvoted)-1)],3552,dtype=tf.float32)\n",
        "    train_set_input.append(tuple((user_onehot,item_onehot)))\n",
        "    train_set_output.append(train.iloc[[i],[j]].values[0][0])"
      ],
      "execution_count": 6,
      "outputs": [
        {
          "output_type": "stream",
          "text": [
            "100%|██████████| 28555/28555 [01:00<00:00, 469.44it/s]\n",
            "100%|██████████| 28555/28555 [01:18<00:00, 365.92it/s]\n"
          ],
          "name": "stderr"
        }
      ]
    },
    {
      "cell_type": "code",
      "metadata": {
        "id": "SosSedsZA9Hy",
        "colab_type": "code",
        "colab": {}
      },
      "source": [
        "model=DeepRs(28555,3552)"
      ],
      "execution_count": 0,
      "outputs": []
    },
    {
      "cell_type": "code",
      "metadata": {
        "id": "zdXT7Yj-o8L7",
        "colab_type": "code",
        "outputId": "289adf44-65ca-43f5-cf15-644cc2627bed",
        "colab": {
          "base_uri": "https://localhost:8080/",
          "height": 35
        }
      },
      "source": [
        "### save to plot\n",
        "losses=[]\n",
        "steps=[]\n",
        "\n",
        "### train (trange is just range with progress bar from tqdm module)\n",
        "\n",
        "optimizer=tf.optimizers.Adam(learning_rate=0.05)\n",
        "for i in trange(5, desc=\"epoch\"):\n",
        "  for j in range(len(train_set_input)):\n",
        "    with tf.GradientTape() as tape:\n",
        "      predicted=model(train_set_input[j])\n",
        "      loss=cost_fn(train_set_output[j],predicted)\n",
        "      losses.append(loss.numpy())\n",
        "      steps.append(i)\n",
        "    variables=model.trainable_weights\n",
        "    gradient=tape.gradient(loss,variables)\n",
        "    optimizer.apply_gradients(zip(gradient,variables))\n",
        "\n",
        "# plot training loss\n",
        "plt.plot(steps, losses, marker=\"o\")\n",
        "plt.xlabel(\"steps\")\n",
        "plt.ylabel(\"loss\")\n",
        "plt.show()"
      ],
      "execution_count": 0,
      "outputs": [
        {
          "output_type": "stream",
          "text": [
            "\repoch:   0%|          | 0/5 [00:00<?, ?it/s]"
          ],
          "name": "stderr"
        }
      ]
    },
    {
      "cell_type": "code",
      "metadata": {
        "id": "G0oRx2xKt50o",
        "colab_type": "code",
        "colab": {}
      },
      "source": [
        ""
      ],
      "execution_count": 0,
      "outputs": []
    }
  ]
}